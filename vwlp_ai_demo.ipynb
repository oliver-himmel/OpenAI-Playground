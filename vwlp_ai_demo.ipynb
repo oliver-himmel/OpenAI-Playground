{
  "nbformat": 4,
  "nbformat_minor": 0,
  "metadata": {
    "colab": {
      "provenance": [],
      "authorship_tag": "ABX9TyOPXvoIA+8o5e2v5agpe8Wt",
      "include_colab_link": true
    },
    "kernelspec": {
      "name": "python3",
      "display_name": "Python 3"
    },
    "language_info": {
      "name": "python"
    }
  },
  "cells": [
    {
      "cell_type": "markdown",
      "metadata": {
        "id": "view-in-github",
        "colab_type": "text"
      },
      "source": [
        "<a href=\"https://colab.research.google.com/github/oliver-himmel/OpenAI-Playground/blob/main/vwlp_ai_demo.ipynb\" target=\"_parent\"><img src=\"https://colab.research.google.com/assets/colab-badge.svg\" alt=\"Open In Colab\"/></a>"
      ]
    },
    {
      "cell_type": "markdown",
      "source": [
        "# OpenAI Playground Demo for VWLP"
      ],
      "metadata": {
        "id": "q70uJ89Dpl4H"
      }
    },
    {
      "cell_type": "code",
      "source": [
        "!pip install -qU openai-agents==0.0.3"
      ],
      "metadata": {
        "colab": {
          "base_uri": "https://localhost:8080/"
        },
        "id": "dwxczUnHpw7D",
        "outputId": "6e0af976-74f3-403f-8139-8ec5aabfd70e"
      },
      "execution_count": 1,
      "outputs": [
        {
          "output_type": "stream",
          "name": "stdout",
          "text": [
            "\u001b[?25l   \u001b[90m━━━━━━━━━━━━━━━━━━━━━━━━━━━━━━━━━━━━━━━━\u001b[0m \u001b[32m0.0/75.5 kB\u001b[0m \u001b[31m?\u001b[0m eta \u001b[36m-:--:--\u001b[0m\r\u001b[2K   \u001b[91m━━━━━━━━━━━━━━━━━━━━━━━━━━━━━━━━━━━━━━\u001b[0m\u001b[90m╺\u001b[0m\u001b[90m━\u001b[0m \u001b[32m71.7/75.5 kB\u001b[0m \u001b[31m2.7 MB/s\u001b[0m eta \u001b[36m0:00:01\u001b[0m\r\u001b[2K   \u001b[90m━━━━━━━━━━━━━━━━━━━━━━━━━━━━━━━━━━━━━━━━\u001b[0m \u001b[32m75.5/75.5 kB\u001b[0m \u001b[31m1.8 MB/s\u001b[0m eta \u001b[36m0:00:00\u001b[0m\n",
            "\u001b[?25h\u001b[?25l   \u001b[90m━━━━━━━━━━━━━━━━━━━━━━━━━━━━━━━━━━━━━━━━\u001b[0m \u001b[32m0.0/144.4 kB\u001b[0m \u001b[31m?\u001b[0m eta \u001b[36m-:--:--\u001b[0m\r\u001b[2K   \u001b[90m━━━━━━━━━━━━━━━━━━━━━━━━━━━━━━━━━━━━━━━━\u001b[0m \u001b[32m144.4/144.4 kB\u001b[0m \u001b[31m4.3 MB/s\u001b[0m eta \u001b[36m0:00:00\u001b[0m\n",
            "\u001b[?25h"
          ]
        }
      ]
    },
    {
      "cell_type": "code",
      "source": [
        "import os\n",
        "import json\n",
        "from agents import set_tracing_export_api_key\n",
        "\n",
        "# Read OpenAI API Key from Colab Secret and create OpenAI Client\n",
        "from google.colab import userdata\n",
        "os.environ[\"OPENAI_API_KEY\"] = userdata.get('OPENAI_API_KEY')\n",
        "\n",
        "set_tracing_export_api_key(os.environ.get('OPENAI_API_KEY'))"
      ],
      "metadata": {
        "id": "OcvPeyrDp_zo"
      },
      "execution_count": 2,
      "outputs": []
    },
    {
      "cell_type": "markdown",
      "source": [
        "VWLP Agent Definition"
      ],
      "metadata": {
        "id": "VE6f9jAzyVo9"
      }
    },
    {
      "cell_type": "code",
      "source": [
        "from agents import Agent, Runner, WebSearchTool\n",
        "\n",
        "agent = Agent(\n",
        "    name=\"FIM Data Assistant\",\n",
        "    instructions=\"You are a helpful FIM demo data assistant. You get an LEIKA ID which point to a digital service definition from FIM found at https://fimportal.de/search. You are using an xdf xml data schema and returns demo data in json format\",\n",
        "    model=\"gpt-4o-mini\",\n",
        "    tools=[WebSearchTool()],\n",
        ")"
      ],
      "metadata": {
        "id": "GW8ltdXOyoSN"
      },
      "execution_count": 3,
      "outputs": []
    },
    {
      "cell_type": "markdown",
      "source": [
        "Execute VWLP Agent"
      ],
      "metadata": {
        "id": "gwDgmIC2y4nW"
      }
    },
    {
      "cell_type": "code",
      "source": [
        "result = await Runner.run(\n",
        "    starting_agent=agent,\n",
        "    input=\"Give me demo data for leika id 99102013070000 from https://fimportal.de/api/v1/schemas/S05000040/1.0/xdf. Please show me the service name belonging to leika id as title in output before creating json structure.\"\n",
        ")\n",
        "output = result.final_output\n",
        "\n",
        "# Output Markdown\n",
        "from IPython.display import Markdown\n",
        "display(Markdown(output))"
      ],
      "metadata": {
        "colab": {
          "base_uri": "https://localhost:8080/",
          "height": 1000
        },
        "id": "4hTTZGuTzBw8",
        "outputId": "3a98a383-6c8f-41e1-cb56-86487b96e7c6"
      },
      "execution_count": 6,
      "outputs": [
        {
          "output_type": "display_data",
          "data": {
            "text/plain": [
              "<IPython.core.display.Markdown object>"
            ],
            "text/markdown": "The service associated with the LEIKA ID `99102013070000` is \"Hundesteuer Abmeldung\" (Dog Tax Deregistration).\n\nBelow is the demo data in JSON format for this service:\n\n\n```json\n{\n  \"service\": {\n    \"name\": \"Hundesteuer Abmeldung\",\n    \"description\": \"Service for deregistering a dog from the dog tax system.\",\n    \"fields\": [\n      {\n        \"name\": \"Hundename\",\n        \"type\": \"string\",\n        \"label\": \"Name of the Dog\",\n        \"required\": true\n      },\n      {\n        \"name\": \"Rasse\",\n        \"type\": \"string\",\n        \"label\": \"Breed\",\n        \"required\": true\n      },\n      {\n        \"name\": \"Geburtsdatum\",\n        \"type\": \"date\",\n        \"label\": \"Date of Birth\",\n        \"required\": true\n      },\n      {\n        \"name\": \"Chipnummer\",\n        \"type\": \"string\",\n        \"label\": \"Microchip Number\",\n        \"required\": false\n      },\n      {\n        \"name\": \"Abmeldegrund\",\n        \"type\": \"string\",\n        \"label\": \"Reason for Deregistration\",\n        \"required\": true,\n        \"options\": [\n          \"Verstorben\",\n          \"Umzug ins Ausland\",\n          \"Abgabe des Hundes\",\n          \"Sonstiges\"\n        ]\n      },\n      {\n        \"name\": \"Abmeldedatum\",\n        \"type\": \"date\",\n        \"label\": \"Deregistration Date\",\n        \"required\": true\n      }\n    ],\n    \"attachments\": [\n      {\n        \"name\": \"Tierarztbescheinigung\",\n        \"type\": \"file\",\n        \"label\": \"Veterinary Certificate\",\n        \"required\": false\n      },\n      {\n        \"name\": \"Nachweis des Umzugs\",\n        \"type\": \"file\",\n        \"label\": \"Proof of Relocation\",\n        \"required\": false\n      }\n    ],\n    \"payment\": {\n      \"amount\": 0,\n      \"currency\": \"EUR\",\n      \"method\": \"none\",\n      \"description\": \"No fee required for deregistration.\"\n    }\n  }\n}\n```\n\n\nThis JSON structure outlines the fields and attachments required for the \"Hundesteuer Abmeldung\" service, including the payment details. "
          },
          "metadata": {}
        }
      ]
    }
  ]
}